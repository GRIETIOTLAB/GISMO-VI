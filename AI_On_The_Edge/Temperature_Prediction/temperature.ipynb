{
  "nbformat": 4,
  "nbformat_minor": 0,
  "metadata": {
    "colab": {
      "name": "temperature.ipynb",
      "provenance": [],
      "authorship_tag": "ABX9TyN6KewKuhNOMNOtw2JuTBsa",
      "include_colab_link": true
    },
    "kernelspec": {
      "name": "python3",
      "display_name": "Python 3"
    }
  },
  "cells": [
    {
      "cell_type": "markdown",
      "metadata": {
        "id": "view-in-github",
        "colab_type": "text"
      },
      "source": [
        "<a href=\"https://colab.research.google.com/github/GRIETIOTLAB/GISMO-VI/blob/main/AI_On_The_Edge/Temperature_Prediction/temperature.ipynb\" target=\"_parent\"><img src=\"https://colab.research.google.com/assets/colab-badge.svg\" alt=\"Open In Colab\"/></a>"
      ]
    },
    {
      "cell_type": "code",
      "metadata": {
        "id": "DY5OudjHEKxi"
      },
      "source": [
        "!pip install micromlgen"
      ],
      "execution_count": null,
      "outputs": []
    },
    {
      "cell_type": "code",
      "metadata": {
        "id": "DV8fQYtrAmXm"
      },
      "source": [
        "from sklearn.linear_model import LinearRegression\n",
        "import numpy as np\n",
        "from micromlgen import port\n",
        "samples = np.loadtxt('sample_data/datasets/temperature.csv',dtype=float,delimiter=',')\n",
        "X = samples[:,:-1]\n",
        "y = samples[:,-1]\n",
        "lr = LinearRegression()\n",
        "lr.fit(X,y)\n",
        "c_code = port(lr)\n",
        "print(c_code)"
      ],
      "execution_count": null,
      "outputs": []
    }
  ]
}