{
  "nbformat": 4,
  "nbformat_minor": 0,
  "metadata": {
    "colab": {
      "name": "Basics.ipynb",
      "provenance": [],
      "authorship_tag": "ABX9TyNGoEYoYcda5vtSkGYzrZM7",
      "include_colab_link": true
    },
    "kernelspec": {
      "name": "python3",
      "display_name": "Python 3"
    }
  },
  "cells": [
    {
      "cell_type": "markdown",
      "metadata": {
        "id": "view-in-github",
        "colab_type": "text"
      },
      "source": [
        "<a href=\"https://colab.research.google.com/github/GRIETIOTLAB/GISMO-VI/blob/main/AI_On_The_Edge/Python_Basics/Basics.ipynb\" target=\"_parent\"><img src=\"https://colab.research.google.com/assets/colab-badge.svg\" alt=\"Open In Colab\"/></a>"
      ]
    },
    {
      "cell_type": "markdown",
      "metadata": {
        "id": "yq_tA1A-yn9K"
      },
      "source": [
        "**Hello World**"
      ]
    },
    {
      "cell_type": "code",
      "metadata": {
        "id": "hRIinbumyAP4"
      },
      "source": [
        "print('Hello World!')"
      ],
      "execution_count": null,
      "outputs": []
    },
    {
      "cell_type": "markdown",
      "metadata": {
        "id": "G8TsT9weyfXY"
      },
      "source": [
        "**Variables**\n",
        "\n",
        "Python is not statically typed\n",
        "\n",
        "You need not declare a variable before using it\n",
        "\n",
        "A variable is created the moment you first assign a value to it\n",
        "\n"
      ]
    },
    {
      "cell_type": "code",
      "metadata": {
        "id": "ixeWDp7XswqX"
      },
      "source": [
        "# A variable stores a piece of data and gives it a name\n",
        "\n",
        "a = 42\n",
        "\n",
        "# a contained an integer bcos we gave it an integer\n",
        "\n",
        "is_it_monday = True\n",
        "is_it_sunday = False\n",
        "\n",
        "# booleans example\n",
        "\n",
        "pi_approx = 3.1415\n",
        "\n",
        "# float example\n",
        "\n",
        "my_name = \"Anand\"\n",
        "\n",
        "# String data type\n",
        "\n",
        "print(pi_approx)\n",
        "print(my_name)\n",
        "print(type(a))\n"
      ],
      "execution_count": null,
      "outputs": []
    },
    {
      "cell_type": "markdown",
      "metadata": {
        "id": "3F7cgFb9y55M"
      },
      "source": [
        "**Lists**\n",
        "\n",
        "List is a native Python data structure to store a set of elements\n",
        "\n",
        "A single list may contain elements of different data types\n",
        "\n",
        "Elements in a list are indexed, starting with 0. \n",
        "\n",
        "Last element can be accessed with an index of -1\n",
        "\n",
        "Lists are created by placing the elements in [ ] square brackets\n",
        "\n"
      ]
    },
    {
      "cell_type": "code",
      "metadata": {
        "id": "ImHFIhw2y_fx"
      },
      "source": [
        "prices = [10,20,30,40,50]\n",
        "\n",
        "colors= [\"red\",\"blue\",\"yellow\"]\n",
        "\n",
        "mixed_list= [1,2.2,\"three\",False]\n",
        "\n",
        "print(prices)\n",
        "\n",
        "print(colors[0])\n",
        "\n",
        "print(mixed_list[3])"
      ],
      "execution_count": null,
      "outputs": []
    },
    {
      "cell_type": "markdown",
      "metadata": {
        "id": "8i2VRgyidl4x"
      },
      "source": [
        "Element-wise operations not possible in lists"
      ]
    },
    {
      "cell_type": "code",
      "metadata": {
        "id": "JJm-vLxp6DbO"
      },
      "source": [
        "list1 = [1,2,3,4,5]\n",
        "list2 = [9,8,7,6,5]\n",
        "print(list1 + list2)"
      ],
      "execution_count": null,
      "outputs": []
    },
    {
      "cell_type": "markdown",
      "metadata": {
        "id": "1w6TKMo8618d"
      },
      "source": [
        "**Dictionaries**\n",
        "\n",
        "Dictionary is a data structure in Python that stores data as a key, value pair\n",
        "\n",
        "Dictionaries are written with curly brackets"
      ]
    },
    {
      "cell_type": "code",
      "metadata": {
        "id": "3cVA0sjq7LNL"
      },
      "source": [
        "mydict = {\n",
        "    \"brand\":\"Maruthi\",\n",
        "    \"model\":\"Brezza\",\n",
        "    \"year\":2020\n",
        "}\n",
        "\n",
        "empID = {\"Kumar\":667,\"Anand\":668,\"Sampath\":1024}\n",
        "\n",
        "print(mydict[\"model\"])\n",
        "print(empID[\"Sampath\"])"
      ],
      "execution_count": null,
      "outputs": []
    },
    {
      "cell_type": "markdown",
      "metadata": {
        "id": "EyuZJ3OG0MkA"
      },
      "source": [
        "**Importing in Python**"
      ]
    },
    {
      "cell_type": "code",
      "metadata": {
        "id": "Z1DwSd0C0R8W"
      },
      "source": [
        "float1 = 5.24\n",
        "float2 = 2.25\n",
        "\n",
        "import math\n",
        "print(math.log(float1))\n",
        "print(math.exp(float2))\n",
        "\n",
        "import matplotlib.pyplot as plt\n",
        "x = [-2,-1,0,1,2]\n",
        "y = [-4,-2,0,2,4]\n",
        "plt.plot(x,y)"
      ],
      "execution_count": null,
      "outputs": []
    },
    {
      "cell_type": "markdown",
      "metadata": {
        "id": "lxBAtCK11uXX"
      },
      "source": [
        "**Loops**"
      ]
    },
    {
      "cell_type": "code",
      "metadata": {
        "id": "qASyoTYj1ykJ"
      },
      "source": [
        "fib = [1,1,2,3,5,8]\n",
        "\n",
        "for i in range(0,len(fib)):\n",
        "  print(fib[i])\n",
        "\n",
        "print(\"Let's try again\")\n",
        "\n",
        "for j in fib:\n",
        "  print(j)\n",
        "\n",
        "for index,element in enumerate(fib):\n",
        "  print(index,element)"
      ],
      "execution_count": null,
      "outputs": []
    },
    {
      "cell_type": "markdown",
      "metadata": {
        "id": "HsU6sIed3CXn"
      },
      "source": [
        "**Conditionals**"
      ]
    },
    {
      "cell_type": "code",
      "metadata": {
        "id": "Y4qAAwtW3F7D"
      },
      "source": [
        "nNum = 0\n",
        "if nNum == 0:\n",
        "  print(\"Number is zero\")\n",
        "elif nNum > 0:\n",
        "  print(\"Number is positive\")\n",
        "else:\n",
        "  print(\"Number is negative\")\n"
      ],
      "execution_count": null,
      "outputs": []
    },
    {
      "cell_type": "code",
      "metadata": {
        "id": "ioeC9CSQww4r"
      },
      "source": [
        ""
      ],
      "execution_count": null,
      "outputs": []
    },
    {
      "cell_type": "markdown",
      "metadata": {
        "id": "9JD2f-gE4vHT"
      },
      "source": [
        "**Functions**"
      ]
    },
    {
      "cell_type": "code",
      "metadata": {
        "id": "t2WBAOme4zR-"
      },
      "source": [
        "def print_me(s):\n",
        "  print(s)\n",
        "  return\n",
        "\n",
        "print_me(\"Hello World\")\n",
        "\n",
        "def step(x):\n",
        "  if (x < 0):\n",
        "    return -1\n",
        "  elif (x >= 0):\n",
        "    return 1\n",
        "\n",
        "print(step(2))\n",
        "print(step(-5))\n",
        "\n",
        "def chk_threshold(x):\n",
        "  threshold =25\n",
        "  if x < threshold:\n",
        "    return False\n",
        "  else:\n",
        "    return True\n",
        "\n",
        "print(chk_threshold(20))\n",
        "print(chk_threshold(30))\n"
      ],
      "execution_count": null,
      "outputs": []
    },
    {
      "cell_type": "markdown",
      "metadata": {
        "id": "Wh8ogX6FhUjA"
      },
      "source": [
        "**Numpy** is a general-purpose array processing package\n",
        "\n",
        "It provides a high performance multi dimensional array oblect and tools for working on these arrays\n",
        "\n",
        "**Numpy arrays**"
      ]
    },
    {
      "cell_type": "code",
      "metadata": {
        "id": "KBJCBs3_8GFI"
      },
      "source": [
        "import numpy as np\n",
        "\n",
        "a = np.array([1,2,3])\n",
        "b = np.array([9,8,7])\n",
        "\n",
        "# Be careful with syntax. the parantheses and brackets are both required\n",
        "print(a)\n",
        "\n",
        "print(a[0])\n",
        "\n",
        "#Element-wise operations\n",
        "\n",
        "c = a + b\n",
        "d = a - b\n",
        "e = a * b\n",
        "f = a / b\n",
        "\n",
        "print(c)\n",
        "print(d)\n",
        "print(e)\n",
        "print(f)"
      ],
      "execution_count": null,
      "outputs": []
    },
    {
      "cell_type": "code",
      "metadata": {
        "colab": {
          "base_uri": "https://localhost:8080/"
        },
        "id": "mqJ4TAgwhZs2",
        "outputId": "aa967036-552b-4dc2-8b29-e802b08168f5"
      },
      "source": [
        "import numpy as np\n",
        "np.array([1,4,6,5,3])"
      ],
      "execution_count": null,
      "outputs": [
        {
          "output_type": "execute_result",
          "data": {
            "text/plain": [
              "array([1, 4, 6, 5, 3])"
            ]
          },
          "metadata": {
            "tags": []
          },
          "execution_count": 7
        }
      ]
    },
    {
      "cell_type": "code",
      "metadata": {
        "id": "1kE69TQeirNZ"
      },
      "source": [
        "np.zeros(10,dtype=int)"
      ],
      "execution_count": null,
      "outputs": []
    },
    {
      "cell_type": "code",
      "metadata": {
        "id": "A3XNn2pqi2aQ"
      },
      "source": [
        "np.ones((3,5),dtype=float)"
      ],
      "execution_count": null,
      "outputs": []
    },
    {
      "cell_type": "code",
      "metadata": {
        "id": "alG18UXZjCBD"
      },
      "source": [
        "np.full((3,5),3.14)"
      ],
      "execution_count": null,
      "outputs": []
    },
    {
      "cell_type": "code",
      "metadata": {
        "id": "jrOPS-uwjOz0"
      },
      "source": [
        "np.arange(0,20,2)"
      ],
      "execution_count": null,
      "outputs": []
    },
    {
      "cell_type": "code",
      "metadata": {
        "id": "Mvy-wH2ljg4H"
      },
      "source": [
        "np.random.random((3,3))"
      ],
      "execution_count": null,
      "outputs": []
    }
  ]
}