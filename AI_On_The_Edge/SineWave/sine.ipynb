{
  "nbformat": 4,
  "nbformat_minor": 0,
  "metadata": {
    "colab": {
      "name": "sine.ipynb",
      "provenance": [],
      "authorship_tag": "ABX9TyOicgds9cjNuBgPL0c1iGiB",
      "include_colab_link": true
    },
    "kernelspec": {
      "display_name": "Python 3",
      "name": "python3"
    }
  },
  "cells": [
    {
      "cell_type": "markdown",
      "metadata": {
        "id": "view-in-github",
        "colab_type": "text"
      },
      "source": [
        "<a href=\"https://colab.research.google.com/github/GRIETIOTLAB/GISMO-VI/blob/main/AI_On_The_Edge/SineWave/sine.ipynb\" target=\"_parent\"><img src=\"https://colab.research.google.com/assets/colab-badge.svg\" alt=\"Open In Colab\"/></a>"
      ]
    },
    {
      "cell_type": "code",
      "metadata": {
        "id": "hta0zXrUNq1a"
      },
      "source": [
        "!pip install tinymlgen"
      ],
      "execution_count": null,
      "outputs": []
    },
    {
      "cell_type": "code",
      "metadata": {
        "id": "YWqu1MEAN8p6"
      },
      "source": [
        "import math\n",
        "import numpy as np\n",
        "import tensorflow as tf\n",
        "from tensorflow.keras import layers\n",
        "def get_model():\n",
        "  SAMPLES = 1000\n",
        "  np.random.seed(1337)\n",
        "  x_values = np.random.uniform(low=0,high=2*math.pi,size=SAMPLES)\n",
        "  np.random.shuffle(x_values)\n",
        "  y_values = np.sin(x_values)\n",
        "  y_values += 0.1*np.random.randn(*y_values.shape)\n",
        "  TRAIN_SPLIT =  int(0.6 * SAMPLES)\n",
        "  TEST_SPLIT = int(0.2 * SAMPLES + TRAIN_SPLIT)\n",
        "  x_train, x_test, x_validate = np.split(x_values, [TRAIN_SPLIT, TEST_SPLIT])\n",
        "  y_train, y_test, y_validate = np.split(y_values, [TRAIN_SPLIT, TEST_SPLIT])\n",
        "\n",
        "    # create a NN with 2 layers of 16 neurons\n",
        "  model = tf.keras.Sequential()\n",
        "  model.add(layers.Dense(16, activation='relu', input_shape=(1,)))\n",
        "  model.add(layers.Dense(16, activation='relu'))\n",
        "  model.add(layers.Dense(1))\n",
        "  model.compile(optimizer='rmsprop', loss='mse', metrics=['mae'])\n",
        "  model.fit(x_train, y_train, epochs=200, batch_size=16,\n",
        "                        validation_data=(x_validate, y_validate))\n",
        "  return model\n",
        "        "
      ],
      "execution_count": null,
      "outputs": []
    },
    {
      "cell_type": "code",
      "metadata": {
        "id": "dZ1-2CgdW18p"
      },
      "source": [
        "from tinymlgen import port\n",
        "model = get_model()\n",
        "c_code = port(model, optimize=False, pretty_print=True)\n",
        "print(c_code)"
      ],
      "execution_count": null,
      "outputs": []
    }
  ]
}