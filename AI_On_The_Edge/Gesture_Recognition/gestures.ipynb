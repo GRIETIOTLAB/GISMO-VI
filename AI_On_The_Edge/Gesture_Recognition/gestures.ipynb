{
  "nbformat": 4,
  "nbformat_minor": 0,
  "metadata": {
    "colab": {
      "name": "gestures.ipynb",
      "provenance": [],
      "authorship_tag": "ABX9TyO4loS78JPmRxGgEH7o9TAm",
      "include_colab_link": true
    },
    "kernelspec": {
      "name": "python3",
      "display_name": "Python 3"
    }
  },
  "cells": [
    {
      "cell_type": "markdown",
      "metadata": {
        "id": "view-in-github",
        "colab_type": "text"
      },
      "source": [
        "<a href=\"https://colab.research.google.com/github/GRIETIOTLAB/GISMO-VI/blob/main/AI_On_The_Edge/Gesture_Recognition/gestures.ipynb\" target=\"_parent\"><img src=\"https://colab.research.google.com/assets/colab-badge.svg\" alt=\"Open In Colab\"/></a>"
      ]
    },
    {
      "cell_type": "code",
      "metadata": {
        "id": "QeM6GLg649bJ"
      },
      "source": [
        "!pip install micromlgen"
      ],
      "execution_count": null,
      "outputs": []
    },
    {
      "cell_type": "code",
      "metadata": {
        "id": "hcdp9KWn6cX3"
      },
      "source": [
        "import numpy as np\n",
        "from glob import glob\n",
        "from os.path import basename\n",
        "\n",
        "def load_features(folder):\n",
        "    dataset = None\n",
        "    classmap = {}\n",
        "    for class_idx, filename in enumerate(glob('%s/*.csv' % folder)):\n",
        "        class_name = basename(filename)[:-4]\n",
        "        classmap[class_idx] = class_name\n",
        "        samples = np.loadtxt(filename, dtype=float, delimiter=',')\n",
        "        labels = np.ones((len(samples), 1)) * class_idx\n",
        "        samples = np.hstack((samples, labels))\n",
        "        dataset = samples if dataset is None else np.vstack((dataset, samples))\n",
        "\n",
        "    return dataset, classmap"
      ],
      "execution_count": null,
      "outputs": []
    },
    {
      "cell_type": "code",
      "metadata": {
        "id": "iXmIY8tZ3R6q"
      },
      "source": [
        "from sklearn.ensemble import RandomForestClassifier\n",
        "from micromlgen import port\n",
        "features,classmap = load_features('sample_data/datasets/')\n",
        "X, y = features[:, :-1], features[:, -1]\n",
        "classifier = RandomForestClassifier(n_estimators=30, max_depth=10).fit(X, y)\n",
        "c_code = port(classifier, classmap=classmap)\n",
        "print(c_code)\n",
        "\n",
        "\n"
      ],
      "execution_count": null,
      "outputs": []
    },
    {
      "cell_type": "code",
      "metadata": {
        "id": "HUkZUXyZH-zB"
      },
      "source": [
        "print(classmap)"
      ],
      "execution_count": null,
      "outputs": []
    }
  ]
}